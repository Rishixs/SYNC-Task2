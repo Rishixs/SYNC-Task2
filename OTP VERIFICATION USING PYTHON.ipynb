{
 "cells": [
  {
   "cell_type": "code",
   "execution_count": 1,
   "id": "7f05458d",
   "metadata": {},
   "outputs": [
    {
     "name": "stdout",
     "output_type": "stream",
     "text": [
      "Sending OTP 7041 to rishi651113@gmail.com\n",
      "Enter the OTP received: 7041\n",
      "OTP verification is successful. User is authenticated!\n"
     ]
    }
   ],
   "source": [
    "import random\n",
    "\n",
    "# The Function to generate a random OTP is given below\n",
    "def generate_otp():\n",
    "    return str(random.randint(1000, 9999))\n",
    "\n",
    "# Function to send OTP via email, SMS, or any other method\n",
    "def send_otp(otp, user_email):\n",
    "  \n",
    "    print(f\"Sending OTP {otp} to {user_email}\")\n",
    "\n",
    "# To verify OTP function is needed\n",
    "def verify_otp(user_otp, generated_otp):\n",
    "    return user_otp == generated_otp\n",
    "\n",
    "if __name__ == \"__main__\":\n",
    "    #  user input - user email is needed \n",
    "    user_email = \"rishi651113@gmail.com\"\n",
    "\n",
    "    # Generate a random OTP,for this random lib is used\n",
    "    otp = generate_otp()\n",
    "\n",
    "   \n",
    "    send_otp(otp, user_email)\n",
    "\n",
    "    \n",
    "    user_entered_otp = input(\"Enter the OTP received: \")\n",
    "\n",
    "   # Verification of code\n",
    "    if verify_otp(user_entered_otp, otp):\n",
    "        print(\"OTP verification is successful. User is authenticated!\")\n",
    "    else:\n",
    "        print(\"OTP verification is failed. Please try again.\")\n"
   ]
  },
  {
   "cell_type": "code",
   "execution_count": null,
   "id": "000aa2a0",
   "metadata": {},
   "outputs": [],
   "source": []
  },
  {
   "cell_type": "code",
   "execution_count": null,
   "id": "0a19c3da",
   "metadata": {},
   "outputs": [],
   "source": []
  }
 ],
 "metadata": {
  "kernelspec": {
   "display_name": "Python 3 (ipykernel)",
   "language": "python",
   "name": "python3"
  },
  "language_info": {
   "codemirror_mode": {
    "name": "ipython",
    "version": 3
   },
   "file_extension": ".py",
   "mimetype": "text/x-python",
   "name": "python",
   "nbconvert_exporter": "python",
   "pygments_lexer": "ipython3",
   "version": "3.9.13"
  }
 },
 "nbformat": 4,
 "nbformat_minor": 5
}
